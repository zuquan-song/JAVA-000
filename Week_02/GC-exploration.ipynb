{
 "cells": [
  {
   "cell_type": "code",
   "execution_count": 30,
   "metadata": {},
   "outputs": [],
   "source": [
    "import pandas as pd\n",
    "import numpy as np\n",
    "from itertools import product"
   ]
  },
  {
   "cell_type": "code",
   "execution_count": 33,
   "metadata": {},
   "outputs": [],
   "source": [
    "parameters = {\"heap\": [\"-Xms{}m -Xmx{}m\".format(v, v) for v in [512, 1024, 2048, 4096]],\n",
    "              \"gc\": [\"-XX:+{}\".format(v) for v in [\"UseSerialGC\", \"UseParallelGC\", \"UseConcMarkSweepGC\", \"UseG1GC\"]]\n",
    "             }"
   ]
  },
  {
   "cell_type": "code",
   "execution_count": 62,
   "metadata": {
    "scrolled": false
   },
   "outputs": [],
   "source": [
    "import collections\n",
    "statistics = []\n",
    "for d in [dict(zip(parameters, v)) for v in product(*parameters.values())][:3]:\n",
    "    heap_config, gc = d[\"gc\"], d[\"heap\"]\n",
    "    !java $heap_config $gc -Xloggc:gc.log -XX:+PrintGCDetails -XX:+PrintGCDateStamps GCLogAnalysis > objects.log\n",
    "    statistic = d\n",
    "\n",
    "    with open(\"gc.log\", \"r\") as file:\n",
    "        lines = file.readlines()\n",
    "        statistic['log'] = lines\n",
    "    with open(\"objects.log\", \"r\") as file:\n",
    "        statistic['throughput'] = int(\"\".join(file.readlines()).split(\":\")[1].strip())\n",
    "    statistics.append(statistic)\n"
   ]
  },
  {
   "cell_type": "code",
   "execution_count": 63,
   "metadata": {},
   "outputs": [
    {
     "data": {
      "text/html": [
       "<div>\n",
       "<style>\n",
       "    .dataframe thead tr:only-child th {\n",
       "        text-align: right;\n",
       "    }\n",
       "\n",
       "    .dataframe thead th {\n",
       "        text-align: left;\n",
       "    }\n",
       "\n",
       "    .dataframe tbody tr th {\n",
       "        vertical-align: top;\n",
       "    }\n",
       "</style>\n",
       "<table border=\"1\" class=\"dataframe\">\n",
       "  <thead>\n",
       "    <tr style=\"text-align: right;\">\n",
       "      <th></th>\n",
       "      <th>gc</th>\n",
       "      <th>heap</th>\n",
       "      <th>log</th>\n",
       "      <th>throughput</th>\n",
       "    </tr>\n",
       "  </thead>\n",
       "  <tbody>\n",
       "    <tr>\n",
       "      <th>0</th>\n",
       "      <td>-XX:+UseSerialGC</td>\n",
       "      <td>-Xms512m -Xmx512m</td>\n",
       "      <td>[Java HotSpot(TM) 64-Bit Server VM (25.162-b12...</td>\n",
       "      <td>9458</td>\n",
       "    </tr>\n",
       "    <tr>\n",
       "      <th>1</th>\n",
       "      <td>-XX:+UseParallelGC</td>\n",
       "      <td>-Xms512m -Xmx512m</td>\n",
       "      <td>[Java HotSpot(TM) 64-Bit Server VM (25.162-b12...</td>\n",
       "      <td>7969</td>\n",
       "    </tr>\n",
       "    <tr>\n",
       "      <th>2</th>\n",
       "      <td>-XX:+UseConcMarkSweepGC</td>\n",
       "      <td>-Xms512m -Xmx512m</td>\n",
       "      <td>[Java HotSpot(TM) 64-Bit Server VM (25.162-b12...</td>\n",
       "      <td>9553</td>\n",
       "    </tr>\n",
       "  </tbody>\n",
       "</table>\n",
       "</div>"
      ],
      "text/plain": [
       "                        gc               heap  \\\n",
       "0         -XX:+UseSerialGC  -Xms512m -Xmx512m   \n",
       "1       -XX:+UseParallelGC  -Xms512m -Xmx512m   \n",
       "2  -XX:+UseConcMarkSweepGC  -Xms512m -Xmx512m   \n",
       "\n",
       "                                                 log  throughput  \n",
       "0  [Java HotSpot(TM) 64-Bit Server VM (25.162-b12...        9458  \n",
       "1  [Java HotSpot(TM) 64-Bit Server VM (25.162-b12...        7969  \n",
       "2  [Java HotSpot(TM) 64-Bit Server VM (25.162-b12...        9553  "
      ]
     },
     "execution_count": 63,
     "metadata": {},
     "output_type": "execute_result"
    }
   ],
   "source": [
    "df = pd.DataFrame(statistics)\n",
    "df"
   ]
  },
  {
   "cell_type": "markdown",
   "metadata": {},
   "source": [
    "## Evaluate Metrics\n",
    "- Full GC times\n",
    "- Young GC times\n",
    "- Full GC STW duration\n",
    "- Young GC STW duration\n",
    "- Throughput "
   ]
  },
  {
   "cell_type": "code",
   "execution_count": 54,
   "metadata": {},
   "outputs": [
    {
     "data": {
      "text/plain": [
       "['Java HotSpot(TM) 64-Bit Server VM (25.162-b12) for bsd-amd64 JRE (1.8.0_162-b12), built on Dec 19 2017 17:33:35 by \"java_re\" with gcc 4.2.1 (Based on Apple Inc. build 5658) (LLVM build 2336.11.00)\\n',\n",
       " 'Memory: 4k page, physical 16777216k(1861428k free)\\n',\n",
       " '\\n',\n",
       " '/proc/meminfo:\\n',\n",
       " '\\n',\n",
       " 'CommandLine flags: -XX:InitialHeapSize=536870912 -XX:MaxHeapSize=536870912 -XX:+PrintGC -XX:+PrintGCDateStamps -XX:+PrintGCDetails -XX:+PrintGCTimeStamps -XX:+UseCompressedClassPointers -XX:+UseCompressedOops -XX:+UseSerialGC \\n',\n",
       " '2020-10-26T01:26:29.066+0500: 0.153: [GC (Allocation Failure) 2020-10-26T01:26:29.066+0500: 0.153: [DefNew: 139776K->17471K(157248K), 0.0302487 secs] 139776K->51342K(506816K), 0.0303461 secs] [Times: user=0.02 sys=0.01, real=0.03 secs] \\n',\n",
       " '2020-10-26T01:26:29.120+0500: 0.207: [GC (Allocation Failure) 2020-10-26T01:26:29.120+0500: 0.207: [DefNew: 157247K->17467K(157248K), 0.0356831 secs] 191118K->93841K(506816K), 0.0357644 secs] [Times: user=0.02 sys=0.01, real=0.03 secs] \\n',\n",
       " '2020-10-26T01:26:29.175+0500: 0.262: [GC (Allocation Failure) 2020-10-26T01:26:29.175+0500: 0.263: [DefNew: 157243K->17470K(157248K), 0.0321233 secs] 233617K->142000K(506816K), 0.0322038 secs] [Times: user=0.02 sys=0.02, real=0.03 secs] \\n',\n",
       " '2020-10-26T01:26:29.228+0500: 0.315: [GC (Allocation Failure) 2020-10-26T01:26:29.228+0500: 0.315: [DefNew: 157246K->17471K(157248K), 0.0300968 secs] 281776K->186506K(506816K), 0.0301774 secs] [Times: user=0.02 sys=0.01, real=0.03 secs] \\n',\n",
       " '2020-10-26T01:26:29.284+0500: 0.372: [GC (Allocation Failure) 2020-10-26T01:26:29.285+0500: 0.372: [DefNew: 157247K->17470K(157248K), 0.0304621 secs] 326282K->232710K(506816K), 0.0305457 secs] [Times: user=0.02 sys=0.01, real=0.03 secs] \\n',\n",
       " '2020-10-26T01:26:29.339+0500: 0.427: [GC (Allocation Failure) 2020-10-26T01:26:29.339+0500: 0.427: [DefNew: 157246K->17471K(157248K), 0.0268201 secs] 372486K->272528K(506816K), 0.0269009 secs] [Times: user=0.01 sys=0.01, real=0.03 secs] \\n',\n",
       " '2020-10-26T01:26:29.390+0500: 0.477: [GC (Allocation Failure) 2020-10-26T01:26:29.390+0500: 0.477: [DefNew: 157247K->17470K(157248K), 0.0320423 secs] 412304K->320353K(506816K), 0.0321370 secs] [Times: user=0.02 sys=0.02, real=0.03 secs] \\n',\n",
       " '2020-10-26T01:26:29.444+0500: 0.532: [GC (Allocation Failure) 2020-10-26T01:26:29.445+0500: 0.532: [DefNew: 157246K->157246K(157248K), 0.0000180 secs]2020-10-26T01:26:29.445+0500: 0.532: [Tenured: 302883K->268302K(349568K), 0.0467718 secs] 460129K->268302K(506816K), [Metaspace: 2724K->2724K(1056768K)], 0.0468913 secs] [Times: user=0.05 sys=0.00, real=0.05 secs] \\n',\n",
       " '2020-10-26T01:26:29.516+0500: 0.603: [GC (Allocation Failure) 2020-10-26T01:26:29.516+0500: 0.603: [DefNew: 139776K->17470K(157248K), 0.0062166 secs] 408078K->311073K(506816K), 0.0062996 secs] [Times: user=0.01 sys=0.00, real=0.01 secs] \\n',\n",
       " '2020-10-26T01:26:29.544+0500: 0.631: [GC (Allocation Failure) 2020-10-26T01:26:29.544+0500: 0.631: [DefNew: 157246K->17471K(157248K), 0.0227419 secs] 450849K->351348K(506816K), 0.0228120 secs] [Times: user=0.01 sys=0.01, real=0.02 secs] \\n',\n",
       " '2020-10-26T01:26:29.587+0500: 0.675: [GC (Allocation Failure) 2020-10-26T01:26:29.587+0500: 0.675: [DefNew: 157247K->157247K(157248K), 0.0000173 secs]2020-10-26T01:26:29.587+0500: 0.675: [Tenured: 333876K->299067K(349568K), 0.0424046 secs] 491124K->299067K(506816K), [Metaspace: 2724K->2724K(1056768K)], 0.0425267 secs] [Times: user=0.04 sys=0.00, real=0.05 secs] \\n',\n",
       " '2020-10-26T01:26:29.653+0500: 0.740: [GC (Allocation Failure) 2020-10-26T01:26:29.653+0500: 0.740: [DefNew: 139528K->17471K(157248K), 0.0065185 secs] 438596K->344081K(506816K), 0.0065955 secs] [Times: user=0.01 sys=0.00, real=0.00 secs] \\n',\n",
       " '2020-10-26T01:26:29.681+0500: 0.768: [GC (Allocation Failure) 2020-10-26T01:26:29.681+0500: 0.768: [DefNew: 157247K->157247K(157248K), 0.0000162 secs]2020-10-26T01:26:29.681+0500: 0.768: [Tenured: 326609K->325795K(349568K), 0.0454334 secs] 483857K->325795K(506816K), [Metaspace: 2724K->2724K(1056768K)], 0.0455625 secs] [Times: user=0.04 sys=0.00, real=0.04 secs] \\n',\n",
       " '2020-10-26T01:26:29.754+0500: 0.841: [GC (Allocation Failure) 2020-10-26T01:26:29.754+0500: 0.841: [DefNew: 139776K->139776K(157248K), 0.0000192 secs]2020-10-26T01:26:29.754+0500: 0.841: [Tenured: 325795K->311731K(349568K), 0.0507813 secs] 465571K->311731K(506816K), [Metaspace: 2724K->2724K(1056768K)], 0.0509283 secs] [Times: user=0.05 sys=0.00, real=0.05 secs] \\n',\n",
       " '2020-10-26T01:26:29.830+0500: 0.917: [GC (Allocation Failure) 2020-10-26T01:26:29.830+0500: 0.917: [DefNew: 139776K->139776K(157248K), 0.0000179 secs]2020-10-26T01:26:29.830+0500: 0.917: [Tenured: 311731K->338844K(349568K), 0.0317058 secs] 451507K->338844K(506816K), [Metaspace: 2724K->2724K(1056768K)], 0.0318165 secs] [Times: user=0.03 sys=0.00, real=0.03 secs] \\n',\n",
       " '2020-10-26T01:26:29.883+0500: 0.970: [GC (Allocation Failure) 2020-10-26T01:26:29.883+0500: 0.970: [DefNew: 139515K->139515K(157248K), 0.0000195 secs]2020-10-26T01:26:29.883+0500: 0.970: [Tenured: 338844K->349262K(349568K), 0.0491618 secs] 478359K->350035K(506816K), [Metaspace: 2724K->2724K(1056768K)], 0.0492748 secs] [Times: user=0.04 sys=0.00, real=0.05 secs] \\n',\n",
       " '2020-10-26T01:26:29.960+0500: 1.047: [Full GC (Allocation Failure) 2020-10-26T01:26:29.960+0500: 1.047: [Tenured: 349487K->346644K(349568K), 0.0515303 secs] 506733K->346644K(506816K), [Metaspace: 2724K->2724K(1056768K)], 0.0516227 secs] [Times: user=0.05 sys=0.00, real=0.05 secs] \\n',\n",
       " 'Heap\\n',\n",
       " ' def new generation   total 157248K, used 5998K [0x00000007a0000000, 0x00000007aaaa0000, 0x00000007aaaa0000)\\n',\n",
       " '  eden space 139776K,   4% used [0x00000007a0000000, 0x00000007a05dba48, 0x00000007a8880000)\\n',\n",
       " '  from space 17472K,   0% used [0x00000007a8880000, 0x00000007a8880000, 0x00000007a9990000)\\n',\n",
       " '  to   space 17472K,   0% used [0x00000007a9990000, 0x00000007a9990000, 0x00000007aaaa0000)\\n',\n",
       " ' tenured generation   total 349568K, used 346644K [0x00000007aaaa0000, 0x00000007c0000000, 0x00000007c0000000)\\n',\n",
       " '   the space 349568K,  99% used [0x00000007aaaa0000, 0x00000007bfd25248, 0x00000007bfd25400, 0x00000007c0000000)\\n',\n",
       " ' Metaspace       used 2731K, capacity 4486K, committed 4864K, reserved 1056768K\\n',\n",
       " '  class space    used 297K, capacity 386K, committed 512K, reserved 1048576K\\n']"
      ]
     },
     "execution_count": 54,
     "metadata": {},
     "output_type": "execute_result"
    }
   ],
   "source": [
    "df[df['gc'] == '-XX:+UseSerialGC'].reset_index(drop=True).iloc[0]['log']"
   ]
  },
  {
   "cell_type": "code",
   "execution_count": null,
   "metadata": {},
   "outputs": [],
   "source": []
  }
 ],
 "metadata": {
  "kernelspec": {
   "display_name": "py36",
   "language": "python",
   "name": "py36"
  },
  "language_info": {
   "codemirror_mode": {
    "name": "ipython",
    "version": 3
   },
   "file_extension": ".py",
   "mimetype": "text/x-python",
   "name": "python",
   "nbconvert_exporter": "python",
   "pygments_lexer": "ipython3",
   "version": "3.6.10"
  }
 },
 "nbformat": 4,
 "nbformat_minor": 4
}
